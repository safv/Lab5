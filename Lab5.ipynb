{
 "cells": [
  {
   "cell_type": "markdown",
   "metadata": {},
   "source": [
    "The Lab5 is devoted to basic measurements, namely Round Trip Time (RTT) and Topology measurements. The artifact is a set of 3 Virtual Machines in Google Cloud (Setup #2). \n",
    "\n",
    "Before you start: \n",
    "\n",
    "Install Jupiter Notebook (python 2) on your local machine.\n",
    "\n",
    "Install 'numpy', 'matplotlib' and 'paramiko' modules to your python. \n",
    "\n",
    "From the L50-lab4-rep directory run `chmod +x ./setup.sh` to make the setup.sh script executable.\n",
    "\n",
    "Run `./setup.sh <crsid>` (fill \"crsid\" field by your crsid). The script will create a directory where your measurements will be kept. \n"
   ]
  },
  {
   "cell_type": "code",
   "execution_count": null,
   "metadata": {
    "scrolled": true
   },
   "outputs": [],
   "source": [
    "# Press Shift+Enter to run this cell\n",
    "crsid='twb34' #your crsid\n",
    "machA_ip = '35.189.26.235'\n",
    "machB_ip = '35.197.174.118'\n",
    "machC_ip = '35.197.182.186'\n",
    "import numpy as np\n",
    "from useful import *\n",
    "from useful1 import *\n",
    "\n",
    "\n",
    "%matplotlib inline\n"
   ]
  },
  {
   "cell_type": "markdown",
   "metadata": {},
   "source": [
    "First run: `source ./setup.sh <crsid>` to setup your directory for storing the experiment data and results.\n",
    "\n",
    "# 1 Basic measurements\n",
    "\n",
    "## 1.1 RTT measurements\n",
    "\n",
    "The purpose of this set of experiments is to check the connectivity between all Virtual Machines and to measure RTT for each connectivity link (A <-> B; A <-> C)\n",
    "\n",
    "### Exp.1.1.1 Pings\n",
    "\n",
    "In this experiment we will conduct pings on all the given machines (A -> B; A -> C; B -> A; B -> C; C -> A; C -> B) and measure RTT. "
   ]
  },
  {
   "cell_type": "markdown",
   "metadata": {},
   "source": [
    "Ping 50 time with 0.2 sec interval: from A to B; from A to C"
   ]
  },
  {
   "cell_type": "code",
   "execution_count": null,
   "metadata": {
    "scrolled": false
   },
   "outputs": [],
   "source": [
    "num_times = 50\n",
    "ssh = ssh_connect(machA_ip)\n",
    "for i in range(10):\n",
    "    with open('./'+crsid+'/1.1/1.1.1_ab_'+str(i),'w+') as f:\n",
    "        output = ssh_cmd('ping {} -c {} -i 0.2 | grep -e \"ttl\"'.format(machB_ip, num_times),ssh)\n",
    "        f.write(output)\n",
    "    with open('./'+crsid+'/1.1/1.1.1_ac_'+str(i),'w+') as f:\n",
    "        output = ssh_cmd('ping {} -c {} -i 0.2 | grep -e \"ttl\"'.format(machC_ip, num_times),ssh)\n",
    "        f.write(output)\n",
    "ssh.close()"
   ]
  },
  {
   "cell_type": "markdown",
   "metadata": {},
   "source": [
    "Plot the CDF of RTT from A to B:"
   ]
  },
  {
   "cell_type": "code",
   "execution_count": null,
   "metadata": {
    "scrolled": true
   },
   "outputs": [],
   "source": [
    "graph1('1.1.1_ab',crsid,10.0,num_times)"
   ]
  },
  {
   "cell_type": "markdown",
   "metadata": {},
   "source": [
    "Plot the CDF of RTT from A to C:"
   ]
  },
  {
   "cell_type": "code",
   "execution_count": null,
   "metadata": {},
   "outputs": [],
   "source": [
    "graph1('1.1.1_ac',crsid,10.0,num_times)"
   ]
  },
  {
   "cell_type": "code",
   "execution_count": null,
   "metadata": {},
   "outputs": [],
   "source": [
    "num_times = 50\n",
    "ssh = ssh_connect(machB_ip)\n",
    "for i in range(10):\n",
    "    with open('./'+crsid+'/1.1/1.1.1_ba_'+str(i),'w+') as f:\n",
    "        output = ssh_cmd('ping {} -c {} -i 0.2 | grep -e \"ttl\"'.format(machA_ip, num_times),ssh)\n",
    "        f.write(output)\n",
    "    with open('./'+crsid+'/1.1/1.1.1_bc_'+str(i),'w+') as f:\n",
    "        output = ssh_cmd('ping {} -c {} -i 0.2 | grep -e \"ttl\"'.format(machC_ip, num_times),ssh)\n",
    "        f.write(output)\n",
    "ssh.close()"
   ]
  },
  {
   "cell_type": "markdown",
   "metadata": {},
   "source": [
    "Plot the CDF of RTT from B to A:"
   ]
  },
  {
   "cell_type": "code",
   "execution_count": null,
   "metadata": {},
   "outputs": [],
   "source": [
    "graph1('1.1.1_ba',crsid,10.0,num_times)"
   ]
  },
  {
   "cell_type": "markdown",
   "metadata": {},
   "source": [
    "Plot the CDF of RTT from B to C:"
   ]
  },
  {
   "cell_type": "code",
   "execution_count": null,
   "metadata": {},
   "outputs": [],
   "source": [
    "graph1('1.1.1_bc',crsid,10.0,num_times)"
   ]
  },
  {
   "cell_type": "code",
   "execution_count": null,
   "metadata": {},
   "outputs": [],
   "source": [
    "num_times = 50\n",
    "ssh = ssh_connect(machC_ip)\n",
    "for i in range(10):\n",
    "    with open('./'+crsid+'/1.1/1.1.1_ca_'+str(i),'w+') as f:\n",
    "        output = ssh_cmd('ping {} -c {} -i 0.2 | grep -e \"ttl\"'.format(machA_ip, num_times),ssh)\n",
    "        f.write(output)\n",
    "    with open('./'+crsid+'/1.1/1.1.1_cb_'+str(i),'w+') as f:\n",
    "        output = ssh_cmd('ping {} -c {} -i 0.2 | grep -e \"ttl\"'.format(machB_ip, num_times),ssh)\n",
    "        f.write(output)\n",
    "ssh.close()"
   ]
  },
  {
   "cell_type": "markdown",
   "metadata": {},
   "source": [
    "Plot the CDF of RTT from C to A:"
   ]
  },
  {
   "cell_type": "code",
   "execution_count": null,
   "metadata": {
    "scrolled": false
   },
   "outputs": [],
   "source": [
    "graph1('1.1.1_ca',crsid,10.0,num_times)"
   ]
  },
  {
   "cell_type": "markdown",
   "metadata": {},
   "source": [
    "Plot the CDF of RTT from C to B:"
   ]
  },
  {
   "cell_type": "code",
   "execution_count": null,
   "metadata": {},
   "outputs": [],
   "source": [
    "graph1('1.1.1_cb',crsid,10.0,num_times)"
   ]
  },
  {
   "cell_type": "markdown",
   "metadata": {},
   "source": [
    "# 1.2 Tolopogy measurements"
   ]
  },
  {
   "cell_type": "markdown",
   "metadata": {},
   "source": [
    "# 1.2.1 Traceroute to different external IP Addresses\n",
    "\n",
    "Traceroute to 8.8.8.8 and www.yandex.ru from machine A"
   ]
  },
  {
   "cell_type": "code",
   "execution_count": null,
   "metadata": {},
   "outputs": [],
   "source": [
    "ssh = ssh_connect(machA_ip)\n",
    "output = ssh_cmd('traceroute 8.8.8.8', ssh)\n",
    "print (output)\n",
    "ssh.close()"
   ]
  },
  {
   "cell_type": "code",
   "execution_count": null,
   "metadata": {},
   "outputs": [],
   "source": [
    "ssh = ssh_connect(machA_ip)\n",
    "output = ssh_cmd('traceroute www.yandex.ru', ssh)\n",
    "print (output)\n",
    "ssh.close()"
   ]
  },
  {
   "cell_type": "markdown",
   "metadata": {},
   "source": [
    "Traceroute to www.yahoo.com and www.yandex.ru from machine B"
   ]
  },
  {
   "cell_type": "code",
   "execution_count": null,
   "metadata": {},
   "outputs": [],
   "source": [
    "ssh = ssh_connect(machB_ip)\n",
    "output = ssh_cmd('traceroute 8.8.8.8', ssh)\n",
    "print (output)\n",
    "ssh.close()"
   ]
  },
  {
   "cell_type": "code",
   "execution_count": null,
   "metadata": {},
   "outputs": [],
   "source": [
    "ssh = ssh_connect(machB_ip)\n",
    "output = ssh_cmd('traceroute www.yandex.ru', ssh)\n",
    "print (output)\n",
    "ssh.close()"
   ]
  },
  {
   "cell_type": "markdown",
   "metadata": {},
   "source": [
    "Traceroute to www.yahoo.com and www.yandex.ru from machine C"
   ]
  },
  {
   "cell_type": "code",
   "execution_count": null,
   "metadata": {},
   "outputs": [],
   "source": [
    "ssh = ssh_connect(machC_ip)\n",
    "output = ssh_cmd('traceroute 8.8.8.8', ssh)\n",
    "print (output)\n",
    "ssh.close()"
   ]
  },
  {
   "cell_type": "code",
   "execution_count": null,
   "metadata": {},
   "outputs": [],
   "source": [
    "ssh = ssh_connect(machB_ip)\n",
    "output = ssh_cmd('traceroute www.yandex.ru', ssh)\n",
    "print (output)\n",
    "ssh.close()"
   ]
  },
  {
   "cell_type": "code",
   "execution_count": null,
   "metadata": {},
   "outputs": [],
   "source": []
  }
 ],
 "metadata": {
  "kernelspec": {
   "display_name": "Python 2",
   "language": "python",
   "name": "python2"
  },
  "language_info": {
   "codemirror_mode": {
    "name": "ipython",
    "version": 2
   },
   "file_extension": ".py",
   "mimetype": "text/x-python",
   "name": "python",
   "nbconvert_exporter": "python",
   "pygments_lexer": "ipython2",
   "version": "2.7.12"
  }
 },
 "nbformat": 4,
 "nbformat_minor": 2
}
